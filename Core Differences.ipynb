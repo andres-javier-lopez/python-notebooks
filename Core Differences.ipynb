{
 "cells": [
  {
   "cell_type": "markdown",
   "metadata": {},
   "source": [
    "# Python Core Concepts"
   ]
  },
  {
   "cell_type": "markdown",
   "metadata": {},
   "source": [
    "This notebook illustrates some of the core concepts of Python that are different from other programming languages."
   ]
  },
  {
   "cell_type": "markdown",
   "metadata": {},
   "source": [
    "## Indentation\n",
    "\n",
    "Python relies only on indentation to separate code blocks. This is very useful for maitaing the code clean, but may be confusing from people comming from other languages, especially because you can use `tabs` or `spaces` for indentation but can't mix them up.\n",
    "\n",
    "The recommendation for any new Python project is to use an indentation of **4 spaces**. If the project already exists, continue to use the previous standard."
   ]
  },
  {
   "cell_type": "code",
   "execution_count": 1,
   "metadata": {},
   "outputs": [],
   "source": [
    "# This is a valid indented block\n",
    "def fun():\n",
    "    # This is an indented block, \n",
    "    # the indentation is 4 spaces\n",
    "    pass\n",
    "\n",
    "# This is outside the block, indentation returns to normal\n",
    "fun()"
   ]
  },
  {
   "cell_type": "markdown",
   "metadata": {},
   "source": [
    "Because Python indentation requires at least one indented line in any kind of block, a special instruction exists to indicate that nothing happens: `pass`.\n",
    "\n",
    "You can think on this as a place holders for functions or classes that don't have any definition."
   ]
  },
  {
   "cell_type": "markdown",
   "metadata": {},
   "source": [
    "## For Loops\n",
    "\n",
    "In Python, the `for` loop is equivalent to a `foreach` in other languages, and there isn't an structure equivalent to a regular `for` loop. Instead, Python uses the `range` function to generate a numeric list to be iterated to emulate a traditional `for`."
   ]
  },
  {
   "cell_type": "code",
   "execution_count": 2,
   "metadata": {},
   "outputs": [
    {
     "name": "stdout",
     "output_type": "stream",
     "text": [
      "a, b, c, d, e, "
     ]
    }
   ],
   "source": [
    "# The main purpose of the for statement is to iterate a list, or a similar object\n",
    "lst = ['a', 'b', 'c', 'd', 'e']\n",
    "\n",
    "for element in lst:\n",
    "    print(element, end=', ')"
   ]
  },
  {
   "cell_type": "code",
   "execution_count": 3,
   "metadata": {},
   "outputs": [
    {
     "name": "stdout",
     "output_type": "stream",
     "text": [
      "Is range(5) equal to our numbers list? True\n",
      "0, 1, 2, 3, 4, 5, 6, 7, 8, 9, "
     ]
    }
   ],
   "source": [
    "# To emulate a regular for, we use range to create a list of numbers\n",
    "numbers = [0, 1, 2, 3, 4]\n",
    "print('Is range(5) equal to our numbers list?', numbers == list(range(5)))\n",
    "\n",
    "# Count to 10\n",
    "for i in range(10):\n",
    "    print(i, end=', ')"
   ]
  },
  {
   "cell_type": "markdown",
   "metadata": {},
   "source": [
    "Using `range` is more efficient than declaring a list of numbers, because since Python 3, range is a generator."
   ]
  },
  {
   "cell_type": "markdown",
   "metadata": {},
   "source": [
    "## List Comprehension\n",
    "\n",
    "Python has a special way of declaring list and dictionaries that is called a comprehension. The sintaxis can be confusing at first, as there are no similar expressions in other languages, but they can actually generate cleaner code if used correctly (May also be a big mess if not).\n",
    "\n",
    "A list comprehension can be divided in three parts:\n",
    "* The resulting element. This can also be equivalent to a `map` function.\n",
    "* The iteration, that is represented by a `for` loop\n",
    "* An optional condition, that is equivalent to a `filter` function."
   ]
  },
  {
   "cell_type": "code",
   "execution_count": 4,
   "metadata": {},
   "outputs": [
    {
     "name": "stdout",
     "output_type": "stream",
     "text": [
      "[1, 9, 25] - traditional\n",
      "[1, 9, 25] - map and filter\n",
      "[1, 9, 25] - list comprehension\n",
      "[1, 9, 25] - cleaner version\n"
     ]
    }
   ],
   "source": [
    "# Having a list of numbers\n",
    "lst = [0, 1, 2, 3, 4, 5]\n",
    "\n",
    "# Let's calculate the squares of all the odd numbers\n",
    "\n",
    "# Using a very traditional approach\n",
    "squares = []\n",
    "for x in lst:\n",
    "    if x % 2 != 0:\n",
    "        squares.append(x**2)\n",
    "print(squares, '- traditional')\n",
    "\n",
    "# Using map and filter\n",
    "squares = list(map(lambda x: x**2, filter(lambda x: x % 2 != 0, lst)))\n",
    "print(squares, '- map and filter')\n",
    "\n",
    "# Using a list comprehension\n",
    "squares = [x**2 for x in lst if x % 2 != 0]\n",
    "print(squares, '- list comprehension')\n",
    "\n",
    "# For better readability can also be written as\n",
    "squares = [\n",
    "    x**2             # result element\n",
    "    for x in lst     # iteration\n",
    "    if x % 2 != 0    # condition\n",
    "]\n",
    "print(squares, '- cleaner version')"
   ]
  },
  {
   "cell_type": "markdown",
   "metadata": {},
   "source": [
    "Comprehesions can also be used with dictionaries, but is less common"
   ]
  },
  {
   "cell_type": "code",
   "execution_count": 5,
   "metadata": {},
   "outputs": [
    {
     "name": "stdout",
     "output_type": "stream",
     "text": [
      "{0: 0, 1: 1, 2: 4, 3: 9, 4: 16, 5: 25, 6: 36, 7: 49, 8: 64, 9: 81}\n"
     ]
    }
   ],
   "source": [
    "# Make a dictionary with the digits numbers and their squares\n",
    "squares = {\n",
    "    x: x**2\n",
    "    for x in range(10)\n",
    "}\n",
    "print(squares)"
   ]
  },
  {
   "cell_type": "markdown",
   "metadata": {},
   "source": [
    "## Context Managers\n",
    "\n",
    "Another important patter in Python are Context Managers. This are used with the keyword `with` and are mainly used to handle resources that need to be closed after use, like file operations"
   ]
  },
  {
   "cell_type": "code",
   "execution_count": 6,
   "metadata": {},
   "outputs": [
    {
     "name": "stdout",
     "output_type": "stream",
     "text": [
      "open the file\n",
      "the first line is:  this is a sample text\n",
      "\n",
      "closing the file\n"
     ]
    }
   ],
   "source": [
    "# A simple way to manage a file is\n",
    "\n",
    "print('open the file')\n",
    "f = open('sample.txt') \n",
    "\n",
    "print('the first line is: ', f.readline())\n",
    "\n",
    "print('closing the file')\n",
    "f.close()  # Don't forget to close the file"
   ]
  },
  {
   "cell_type": "code",
   "execution_count": 7,
   "metadata": {},
   "outputs": [
    {
     "name": "stdout",
     "output_type": "stream",
     "text": [
      "open the file\n",
      "the first line is:  this is a sample text\n",
      "\n",
      "closing the file\n"
     ]
    }
   ],
   "source": [
    "# A more advanced way is using finally to ensure that the file is closed\n",
    "\n",
    "try:\n",
    "    print('open the file')\n",
    "    f = open('sample.txt')\n",
    "    print('the first line is: ', f.readline())\n",
    "except:\n",
    "    print('an error ocurred')\n",
    "finally:\n",
    "    print('closing the file')\n",
    "    f.close()"
   ]
  },
  {
   "cell_type": "markdown",
   "metadata": {},
   "source": [
    "Using a context manager, we have a cleaner way to handle closing the resource when we finish using it. The file resource is only available on the context manager indented block, and is closed when we leave it. The context manager will close the resource even if an error occurs during execution, making it virtually the same as the `try...finally` block."
   ]
  },
  {
   "cell_type": "code",
   "execution_count": 8,
   "metadata": {},
   "outputs": [
    {
     "name": "stdout",
     "output_type": "stream",
     "text": [
      "open the file with a context manager\n",
      "the first line is: this is a sample text\n",
      "\n",
      "the file is already closed\n"
     ]
    }
   ],
   "source": [
    "print('open the file with a context manager')\n",
    "with open('sample.txt') as f:\n",
    "    print('the first line is:', f.readline())\n",
    "\n",
    "print('the file is already closed')"
   ]
  },
  {
   "cell_type": "markdown",
   "metadata": {},
   "source": [
    "## Object Oriented\n",
    "\n",
    "Python is an object oriented language, and everything can be considered an object. You may also be able to assign attributes to things that are not objects in other languages."
   ]
  },
  {
   "cell_type": "markdown",
   "metadata": {},
   "source": [
    "Let's check the types of a lot of common things:"
   ]
  },
  {
   "cell_type": "code",
   "execution_count": 9,
   "metadata": {},
   "outputs": [
    {
     "name": "stdout",
     "output_type": "stream",
     "text": [
      "<class 'int'>\n"
     ]
    }
   ],
   "source": [
    "print(type(5))"
   ]
  },
  {
   "cell_type": "code",
   "execution_count": 10,
   "metadata": {},
   "outputs": [
    {
     "name": "stdout",
     "output_type": "stream",
     "text": [
      "<class 'str'>\n"
     ]
    }
   ],
   "source": [
    "print(type(\"this is a string\"))"
   ]
  },
  {
   "cell_type": "code",
   "execution_count": 11,
   "metadata": {},
   "outputs": [
    {
     "name": "stdout",
     "output_type": "stream",
     "text": [
      "<class 'function'>\n"
     ]
    }
   ],
   "source": [
    "def fun():\n",
    "    pass\n",
    "print(type(fun))"
   ]
  },
  {
   "cell_type": "code",
   "execution_count": 12,
   "metadata": {},
   "outputs": [
    {
     "name": "stdout",
     "output_type": "stream",
     "text": [
      "<class 'type'>\n"
     ]
    }
   ],
   "source": [
    "class A:\n",
    "    pass\n",
    "print(type(A))"
   ]
  },
  {
   "cell_type": "code",
   "execution_count": 13,
   "metadata": {},
   "outputs": [
    {
     "name": "stdout",
     "output_type": "stream",
     "text": [
      "<class '__main__.A'>\n"
     ]
    }
   ],
   "source": [
    "a = A()\n",
    "print(type(a))"
   ]
  },
  {
   "cell_type": "markdown",
   "metadata": {},
   "source": [
    "Now let's try to use methods and attributes of this elements"
   ]
  },
  {
   "cell_type": "code",
   "execution_count": 14,
   "metadata": {},
   "outputs": [
    {
     "name": "stdout",
     "output_type": "stream",
     "text": [
      "<class 'function'>\n",
      "this is an attribute\n"
     ]
    }
   ],
   "source": [
    "fun.a = 'this is an attribute'\n",
    "print(type(fun))\n",
    "print(fun.a)"
   ]
  },
  {
   "cell_type": "code",
   "execution_count": 15,
   "metadata": {},
   "outputs": [
    {
     "name": "stdout",
     "output_type": "stream",
     "text": [
      "<class 'type'>\n",
      "This is a class attribute\n"
     ]
    }
   ],
   "source": [
    "A.static_attr = 'This is a class attribute'\n",
    "print(type(A))\n",
    "print(A.static_attr)"
   ]
  },
  {
   "cell_type": "markdown",
   "metadata": {},
   "source": [
    "However, not all objects can have new attributes"
   ]
  },
  {
   "cell_type": "code",
   "execution_count": 16,
   "metadata": {},
   "outputs": [
    {
     "ename": "AttributeError",
     "evalue": "'str' object has no attribute 'a'",
     "output_type": "error",
     "traceback": [
      "\u001b[0;31m---------------------------------------------------------------------------\u001b[0m",
      "\u001b[0;31mAttributeError\u001b[0m                            Traceback (most recent call last)",
      "\u001b[0;32m<ipython-input-16-e060ec15de38>\u001b[0m in \u001b[0;36m<module>\u001b[0;34m\u001b[0m\n\u001b[0;32m----> 1\u001b[0;31m \u001b[0;34m\"this is a string\"\u001b[0m\u001b[0;34m.\u001b[0m\u001b[0ma\u001b[0m \u001b[0;34m=\u001b[0m \u001b[0;34m'error'\u001b[0m\u001b[0;34m\u001b[0m\u001b[0;34m\u001b[0m\u001b[0m\n\u001b[0m",
      "\u001b[0;31mAttributeError\u001b[0m: 'str' object has no attribute 'a'"
     ]
    }
   ],
   "source": [
    "\"this is a string\".a = 'error'"
   ]
  },
  {
   "cell_type": "markdown",
   "metadata": {},
   "source": [
    "## Instropection and Reflection\n",
    "\n",
    "Another important part of the Python language is that you are able to inspect all the properties of an element, and you are also able to modify them on runtime"
   ]
  },
  {
   "cell_type": "code",
   "execution_count": 17,
   "metadata": {},
   "outputs": [],
   "source": [
    "# Let's start with a class definition\n",
    "class A:\n",
    "    first = 'first attribute'\n",
    "    second = 'second attribute'\n",
    "    \n",
    "    def func(self):\n",
    "        pass"
   ]
  },
  {
   "cell_type": "code",
   "execution_count": 18,
   "metadata": {},
   "outputs": [
    {
     "data": {
      "text/plain": [
       "['__class__',\n",
       " '__delattr__',\n",
       " '__dict__',\n",
       " '__dir__',\n",
       " '__doc__',\n",
       " '__eq__',\n",
       " '__format__',\n",
       " '__ge__',\n",
       " '__getattribute__',\n",
       " '__gt__',\n",
       " '__hash__',\n",
       " '__init__',\n",
       " '__init_subclass__',\n",
       " '__le__',\n",
       " '__lt__',\n",
       " '__module__',\n",
       " '__ne__',\n",
       " '__new__',\n",
       " '__reduce__',\n",
       " '__reduce_ex__',\n",
       " '__repr__',\n",
       " '__setattr__',\n",
       " '__sizeof__',\n",
       " '__str__',\n",
       " '__subclasshook__',\n",
       " '__weakref__',\n",
       " 'first',\n",
       " 'func',\n",
       " 'second']"
      ]
     },
     "execution_count": 18,
     "metadata": {},
     "output_type": "execute_result"
    }
   ],
   "source": [
    "# Now let's inspect what are A attributes\n",
    "dir(A)"
   ]
  },
  {
   "cell_type": "markdown",
   "metadata": {},
   "source": [
    "Attributes and methods that are surrounded by double underscore are magic attributes and magic methods, they usually are invoked on special circustances like:"
   ]
  },
  {
   "cell_type": "code",
   "execution_count": 19,
   "metadata": {},
   "outputs": [
    {
     "name": "stdout",
     "output_type": "stream",
     "text": [
      "<class 'type'>\n",
      "<class 'type'>\n"
     ]
    }
   ],
   "source": [
    "# consulting the type of an object\n",
    "print(A.__class__)\n",
    "print(type(A))"
   ]
  },
  {
   "cell_type": "code",
   "execution_count": 20,
   "metadata": {},
   "outputs": [
    {
     "name": "stdout",
     "output_type": "stream",
     "text": [
      "<__main__.A object at 0x7f8d082e4ed0>\n",
      "<__main__.A object at 0x7f8d082e4ed0>\n"
     ]
    }
   ],
   "source": [
    "# obtaining the string representation of an object\n",
    "a = A()\n",
    "print(a.__str__())\n",
    "print(str(a))"
   ]
  },
  {
   "cell_type": "markdown",
   "metadata": {},
   "source": [
    "We can also add a new method to an object on real time"
   ]
  },
  {
   "cell_type": "code",
   "execution_count": 21,
   "metadata": {},
   "outputs": [
    {
     "name": "stdout",
     "output_type": "stream",
     "text": [
      "this is an attached function\n"
     ]
    }
   ],
   "source": [
    "def new_function():\n",
    "    print('this is an attached function')\n",
    "    \n",
    "a.new_function = new_function\n",
    "\n",
    "a.new_function()"
   ]
  },
  {
   "cell_type": "code",
   "execution_count": 22,
   "metadata": {},
   "outputs": [
    {
     "data": {
      "text/plain": [
       "['__class__',\n",
       " '__delattr__',\n",
       " '__dict__',\n",
       " '__dir__',\n",
       " '__doc__',\n",
       " '__eq__',\n",
       " '__format__',\n",
       " '__ge__',\n",
       " '__getattribute__',\n",
       " '__gt__',\n",
       " '__hash__',\n",
       " '__init__',\n",
       " '__init_subclass__',\n",
       " '__le__',\n",
       " '__lt__',\n",
       " '__module__',\n",
       " '__ne__',\n",
       " '__new__',\n",
       " '__reduce__',\n",
       " '__reduce_ex__',\n",
       " '__repr__',\n",
       " '__setattr__',\n",
       " '__sizeof__',\n",
       " '__str__',\n",
       " '__subclasshook__',\n",
       " '__weakref__',\n",
       " 'first',\n",
       " 'func',\n",
       " 'new_function',\n",
       " 'second']"
      ]
     },
     "execution_count": 22,
     "metadata": {},
     "output_type": "execute_result"
    }
   ],
   "source": [
    "# The new function is present on our object directory\n",
    "\n",
    "dir(a)"
   ]
  },
  {
   "cell_type": "markdown",
   "metadata": {},
   "source": [
    "## Explicit self\n",
    "\n",
    "One of the principles of python is _Explicit is better than implicit_, and this is perfectly reflected on the `self` variable. Python doesn't have a hidden implicit variable to represent the current object, but it has to be added to the function parameters."
   ]
  },
  {
   "cell_type": "code",
   "execution_count": 23,
   "metadata": {},
   "outputs": [
    {
     "name": "stdout",
     "output_type": "stream",
     "text": [
      "calling the second function\n",
      "this is the second function\n"
     ]
    }
   ],
   "source": [
    "class A:\n",
    "    def second_function(self):\n",
    "        print(\"this is the second function\")\n",
    "    \n",
    "    def first_function(self):\n",
    "        print(\"calling the second function\")\n",
    "        self.second_function()\n",
    "        \n",
    "a = A()\n",
    "a.first_function()"
   ]
  },
  {
   "cell_type": "code",
   "execution_count": 24,
   "metadata": {},
   "outputs": [
    {
     "name": "stdout",
     "output_type": "stream",
     "text": [
      "calling the second function\n",
      "this is the second function\n"
     ]
    }
   ],
   "source": [
    "# Technically this is the equivalent to\n",
    "A.first_function(a)"
   ]
  },
  {
   "cell_type": "markdown",
   "metadata": {},
   "source": [
    "## Access Modifiers\n",
    "\n",
    "Some may been wondering, if you can always list all methods and attributes for an object, what about private attributes? The answer is that there are no private attributes on Python, you can only \"mark\" an attribute as private by convention by adding and underscore before the name, but the language does not enforce it "
   ]
  },
  {
   "cell_type": "code",
   "execution_count": 25,
   "metadata": {},
   "outputs": [
    {
     "name": "stdout",
     "output_type": "stream",
     "text": [
      "I'm public\n",
      "I'm 'supposed' to be private\n",
      "public\n",
      "supposed to be private\n"
     ]
    }
   ],
   "source": [
    "class A:\n",
    "    # This are class attributes\n",
    "    public_static_attribute = \"I'm public\"\n",
    "    _private_static_attribute = \"I'm 'supposed' to be private\"\n",
    "    \n",
    "    def __init__(self):  # The constructor\n",
    "        # Here you define instance attributes\n",
    "        self.public = 'public'\n",
    "        self._private = 'supposed to be private'\n",
    "\n",
    "print(A.public_static_attribute)\n",
    "print(A._private_static_attribute)\n",
    "\n",
    "a = A()\n",
    "print(a.public)\n",
    "print(a._private)"
   ]
  },
  {
   "cell_type": "code",
   "execution_count": 26,
   "metadata": {},
   "outputs": [
    {
     "name": "stdout",
     "output_type": "stream",
     "text": [
      "I'm 'supposed' to be private\n",
      "now is modified\n"
     ]
    }
   ],
   "source": [
    "# You can even modify a \"private\" attribute, even when you are not expected to\n",
    "\n",
    "print(a._private_static_attribute)\n",
    "A._private_static_attribute = 'now is modified'\n",
    "print(a._private_static_attribute)"
   ]
  },
  {
   "cell_type": "code",
   "execution_count": 27,
   "metadata": {},
   "outputs": [
    {
     "data": {
      "text/plain": [
       "['__class__',\n",
       " '__delattr__',\n",
       " '__dict__',\n",
       " '__dir__',\n",
       " '__doc__',\n",
       " '__eq__',\n",
       " '__format__',\n",
       " '__ge__',\n",
       " '__getattribute__',\n",
       " '__gt__',\n",
       " '__hash__',\n",
       " '__init__',\n",
       " '__init_subclass__',\n",
       " '__le__',\n",
       " '__lt__',\n",
       " '__module__',\n",
       " '__ne__',\n",
       " '__new__',\n",
       " '__reduce__',\n",
       " '__reduce_ex__',\n",
       " '__repr__',\n",
       " '__setattr__',\n",
       " '__sizeof__',\n",
       " '__str__',\n",
       " '__subclasshook__',\n",
       " '__weakref__',\n",
       " '_private',\n",
       " '_private_static_attribute',\n",
       " 'public',\n",
       " 'public_static_attribute']"
      ]
     },
     "execution_count": 27,
     "metadata": {},
     "output_type": "execute_result"
    }
   ],
   "source": [
    "# The private attributes will also be listed with the rest of the object elements\n",
    "\n",
    "dir(a)"
   ]
  },
  {
   "cell_type": "markdown",
   "metadata": {},
   "source": [
    "## Docstrings\n",
    "\n",
    "One of the advantages of having all this information available is that you can easily ask for help on any function or object."
   ]
  },
  {
   "cell_type": "code",
   "execution_count": 28,
   "metadata": {},
   "outputs": [
    {
     "name": "stdout",
     "output_type": "stream",
     "text": [
      "Help on built-in function print in module builtins:\n",
      "\n",
      "print(...)\n",
      "    print(value, ..., sep=' ', end='\\n', file=sys.stdout, flush=False)\n",
      "    \n",
      "    Prints the values to a stream, or to sys.stdout by default.\n",
      "    Optional keyword arguments:\n",
      "    file:  a file-like object (stream); defaults to the current sys.stdout.\n",
      "    sep:   string inserted between values, default a space.\n",
      "    end:   string appended after the last value, default a newline.\n",
      "    flush: whether to forcibly flush the stream.\n",
      "\n"
     ]
    }
   ],
   "source": [
    "help(print)"
   ]
  },
  {
   "cell_type": "code",
   "execution_count": 29,
   "metadata": {},
   "outputs": [
    {
     "name": "stdout",
     "output_type": "stream",
     "text": [
      "Help on function some_function in module __main__:\n",
      "\n",
      "some_function(a, b, c)\n",
      "\n"
     ]
    }
   ],
   "source": [
    "def some_function(a, b, c):\n",
    "    pass\n",
    "\n",
    "help(some_function)  "
   ]
  },
  {
   "cell_type": "code",
   "execution_count": 30,
   "metadata": {},
   "outputs": [
    {
     "name": "stdout",
     "output_type": "stream",
     "text": [
      "Help on class A in module __main__:\n",
      "\n",
      "class A(builtins.object)\n",
      " |  A(x)\n",
      " |  \n",
      " |  Methods defined here:\n",
      " |  \n",
      " |  __init__(self, x)\n",
      " |      Initialize self.  See help(type(self)) for accurate signature.\n",
      " |  \n",
      " |  some_method(self)\n",
      " |  \n",
      " |  ----------------------------------------------------------------------\n",
      " |  Data descriptors defined here:\n",
      " |  \n",
      " |  __dict__\n",
      " |      dictionary for instance variables (if defined)\n",
      " |  \n",
      " |  __weakref__\n",
      " |      list of weak references to the object (if defined)\n",
      " |  \n",
      " |  ----------------------------------------------------------------------\n",
      " |  Data and other attributes defined here:\n",
      " |  \n",
      " |  some_attribute = 'hello world!'\n",
      "\n"
     ]
    }
   ],
   "source": [
    "class A:\n",
    "    some_attribute = 'hello world!'\n",
    "    \n",
    "    def __init__(self, x):\n",
    "        self.x = x\n",
    "    \n",
    "    def some_method(self):\n",
    "        pass\n",
    "\n",
    "help(A)"
   ]
  },
  {
   "cell_type": "markdown",
   "metadata": {},
   "source": [
    "But this information is not always the best for an user defined class or function. So Python has a specific way to add a description to an element, and is called a _docstring_."
   ]
  },
  {
   "cell_type": "code",
   "execution_count": 31,
   "metadata": {},
   "outputs": [
    {
     "name": "stdout",
     "output_type": "stream",
     "text": [
      "Help on function some_function in module __main__:\n",
      "\n",
      "some_function(a, b)\n",
      "    Add a and b together and return the result\n",
      "\n"
     ]
    }
   ],
   "source": [
    "def some_function(a, b):\n",
    "    \"\"\"Add a and b together and return the result\"\"\"\n",
    "    return a + b\n",
    "\n",
    "help(some_function)"
   ]
  },
  {
   "cell_type": "code",
   "execution_count": 32,
   "metadata": {},
   "outputs": [
    {
     "name": "stdout",
     "output_type": "stream",
     "text": [
      "Help on class A in module __main__:\n",
      "\n",
      "class A(builtins.object)\n",
      " |  This is a sample class.\n",
      " |  \n",
      " |  This is a class that is used a sample for some \n",
      " |  Python language features\n",
      " |  \n",
      " |  Methods defined here:\n",
      " |  \n",
      " |  __init__(self)\n",
      " |      This is the class constructor\n",
      " |  \n",
      " |  ----------------------------------------------------------------------\n",
      " |  Data descriptors defined here:\n",
      " |  \n",
      " |  __dict__\n",
      " |      dictionary for instance variables (if defined)\n",
      " |  \n",
      " |  __weakref__\n",
      " |      list of weak references to the object (if defined)\n",
      "\n"
     ]
    }
   ],
   "source": [
    "class A:\n",
    "    \"\"\"This is a sample class.\n",
    "    \n",
    "    This is a class that is used a sample for some \n",
    "    Python language features\n",
    "    \"\"\"\n",
    "    \n",
    "    def __init__(self):\n",
    "        \"\"\"This is the class constructor\"\"\"\n",
    "        pass\n",
    "\n",
    "help(A)"
   ]
  },
  {
   "cell_type": "markdown",
   "metadata": {},
   "source": [
    "## Duck Typing\n",
    "\n",
    "Python is a dynamically typed language, but it also relies a lot on duck typing. This means that a lot of times is more important for an object to have an specific behavior, instead of having an specific type. The way that Python implements this is with its magic methods."
   ]
  },
  {
   "cell_type": "markdown",
   "metadata": {},
   "source": [
    "For example, we could create our own iterator that can be used on a `for` loop:"
   ]
  },
  {
   "cell_type": "code",
   "execution_count": 33,
   "metadata": {},
   "outputs": [
    {
     "name": "stdout",
     "output_type": "stream",
     "text": [
      "<class '__main__.MyIterator'>\n",
      "10\n",
      "0, 1, 2, 3, 4, 5, 6, 7, 8, 9, "
     ]
    }
   ],
   "source": [
    "# Define the iterator class\n",
    "class MyIterator:\n",
    "    def __init__(self):\n",
    "        # Create an inner list of numbers\n",
    "        self.lst = range(10)\n",
    "    \n",
    "    def __iter__(self):\n",
    "        # Calling the list own magic method\n",
    "        return self.lst.__iter__()\n",
    "    \n",
    "    def __len__(self):\n",
    "        return len(self.lst)\n",
    "\n",
    "# Instance the iterator\n",
    "lst = MyIterator()\n",
    "print(type(lst))\n",
    "\n",
    "# Obtain the class lenght\n",
    "print(len(lst))\n",
    "\n",
    "# Iterate the class as a list\n",
    "for i in lst:\n",
    "    print(i, end=', ')"
   ]
  },
  {
   "cell_type": "markdown",
   "metadata": {},
   "source": [
    "We can even create or own Context Managers:"
   ]
  },
  {
   "cell_type": "code",
   "execution_count": 34,
   "metadata": {},
   "outputs": [
    {
     "name": "stdout",
     "output_type": "stream",
     "text": [
      "Starting the context\n",
      "Inside the context manager\n",
      "Closing the context\n"
     ]
    }
   ],
   "source": [
    "class MyContextManager:\n",
    "    def __enter__(self):\n",
    "        print('Starting the context')\n",
    "        return self\n",
    "    \n",
    "    def __exit__(self, *args, **kwargs):\n",
    "        print('Closing the context')\n",
    "        \n",
    "with MyContextManager() as cm:\n",
    "    print('Inside the context manager')"
   ]
  },
  {
   "cell_type": "markdown",
   "metadata": {},
   "source": [
    "## Special Case: Mutable Default Values\n",
    "\n",
    "You should never bind a default parameter on a mutable type, like lists and dictionaries. This is because Python binds the variables only once, and it can lead to weird unexpected behavior"
   ]
  },
  {
   "cell_type": "code",
   "execution_count": 35,
   "metadata": {},
   "outputs": [
    {
     "name": "stdout",
     "output_type": "stream",
     "text": [
      "The first time:  [1]\n",
      "The sencond time:  [1, 1]\n",
      "We can call it with parameters as usual:  [2, 1]\n",
      "But it will still happen:  [1, 1, 1]\n"
     ]
    }
   ],
   "source": [
    "def bad_function(lst=[]):\n",
    "    \"\"\"Returns a list after appending 1 to it.\n",
    "    \n",
    "    If no list is received, it creates an new empty list, then appends 1\n",
    "    and returns it. Or not?\n",
    "    \"\"\"\n",
    "    lst.append(1)\n",
    "    return lst\n",
    "\n",
    "print('The first time: ', bad_function())\n",
    "print('The sencond time: ', bad_function())\n",
    "print('We can call it with parameters as usual: ', bad_function([2]))\n",
    "print('But it will still happen: ', bad_function())\n"
   ]
  },
  {
   "cell_type": "code",
   "execution_count": 36,
   "metadata": {},
   "outputs": [
    {
     "name": "stdout",
     "output_type": "stream",
     "text": [
      "First time:  [1]\n",
      "Second time:  [1]\n",
      "We can always send our parameters:  [2, 1]\n"
     ]
    }
   ],
   "source": [
    "# Let's fix this\n",
    "def good_function(lst=None):\n",
    "    lst = lst or []  # This is a short way to verify the value\n",
    "    lst.append(1)\n",
    "    return lst\n",
    "\n",
    "print('First time: ', good_function())\n",
    "print('Second time: ', good_function())\n",
    "print('We can always send our parameters: ', good_function([2]))"
   ]
  }
 ],
 "metadata": {
  "kernelspec": {
   "display_name": "Python 3",
   "language": "python",
   "name": "python3"
  },
  "language_info": {
   "codemirror_mode": {
    "name": "ipython",
    "version": 3
   },
   "file_extension": ".py",
   "mimetype": "text/x-python",
   "name": "python",
   "nbconvert_exporter": "python",
   "pygments_lexer": "ipython3",
   "version": "3.7.4"
  }
 },
 "nbformat": 4,
 "nbformat_minor": 2
}
