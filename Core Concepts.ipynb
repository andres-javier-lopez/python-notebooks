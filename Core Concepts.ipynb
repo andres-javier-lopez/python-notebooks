{
 "cells": [
  {
   "cell_type": "markdown",
   "metadata": {},
   "source": [
    "# Python Core Concepts"
   ]
  },
  {
   "cell_type": "markdown",
   "metadata": {},
   "source": [
    "This notebook illustrates some of the core concepts of Python that are different from other programming languages."
   ]
  },
  {
   "cell_type": "markdown",
   "metadata": {},
   "source": [
    "## Indentation\n",
    "\n",
    "Python relies only on indentation to separate code blocks. This is very useful for maitaing the code clean, but may be confusing from people comming from other languages, especially because you can use `tabs` or `spaces` for indentation but can't mix them up.\n",
    "\n",
    "The recommendation for any new Python project is to use an indentation of **4 spaces**. If the project already exists, continue to use the previous standard."
   ]
  },
  {
   "cell_type": "code",
   "execution_count": 3,
   "metadata": {},
   "outputs": [],
   "source": [
    "# This is a valid indented block\n",
    "def fun():\n",
    "    # This is an indented block, \n",
    "    # the indentation is 4 spaces\n",
    "    pass\n",
    "\n",
    "# This is outside the block, indentation returns to normal\n",
    "fun()"
   ]
  },
  {
   "cell_type": "code",
   "execution_count": null,
   "metadata": {},
   "outputs": [],
   "source": []
  }
 ],
 "metadata": {
  "kernelspec": {
   "display_name": "Python 3",
   "language": "python",
   "name": "python3"
  },
  "language_info": {
   "codemirror_mode": {
    "name": "ipython",
    "version": 3
   },
   "file_extension": ".py",
   "mimetype": "text/x-python",
   "name": "python",
   "nbconvert_exporter": "python",
   "pygments_lexer": "ipython3",
   "version": "3.7.4"
  }
 },
 "nbformat": 4,
 "nbformat_minor": 2
}
